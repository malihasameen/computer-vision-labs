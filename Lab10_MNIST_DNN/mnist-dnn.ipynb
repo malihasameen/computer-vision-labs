{
 "cells": [
  {
   "cell_type": "markdown",
   "metadata": {
    "colab_type": "text",
    "id": "yIq-Q8-BPQyk"
   },
   "source": [
    "# **Lab10: MNIST Image Classification using Deep Neural Network**"
   ]
  },
  {
   "cell_type": "code",
   "execution_count": 0,
   "metadata": {
    "colab": {},
    "colab_type": "code",
    "id": "3AnD_BWSPIVA"
   },
   "outputs": [],
   "source": [
    "# Import statements\n",
    "import tensorflow as tf\n",
    "import tensorflow.keras as keras\n",
    "import numpy as np\n",
    "import matplotlib.pyplot as plt\n",
    "import seaborn as sns\n",
    "import pandas as pd\n",
    "from sklearn import metrics"
   ]
  },
  {
   "cell_type": "markdown",
   "metadata": {
    "colab_type": "text",
    "id": "Y2JFHHbvUO-6"
   },
   "source": [
    "## **Custom Data Loading**"
   ]
  },
  {
   "cell_type": "code",
   "execution_count": 0,
   "metadata": {
    "colab": {
     "base_uri": "https://localhost:8080/",
     "height": 34
    },
    "colab_type": "code",
    "executionInfo": {
     "elapsed": 1429,
     "status": "ok",
     "timestamp": 1588273739602,
     "user": {
      "displayName": "Maliha Sameen",
      "photoUrl": "",
      "userId": "02324899299454165728"
     },
     "user_tz": -300
    },
    "id": "xZgSCUKcWTjh",
    "outputId": "9dbf81f0-8732-455c-f0e7-0a480159bf71"
   },
   "outputs": [
    {
     "data": {
      "text/plain": [
       "((60000, 28, 28), (60000,), (10000, 28, 28), (10000,))"
      ]
     },
     "execution_count": 16,
     "metadata": {
      "tags": []
     },
     "output_type": "execute_result"
    }
   ],
   "source": [
    "# Load Train and Test data\n",
    "from keras.datasets import mnist\n",
    "\n",
    "(X_train, Y_train), (X_test, Y_test) = mnist.load_data()\n",
    "X_train = X_train.astype(np.float32) / 255\n",
    "X_test = X_test.astype(np.float32) / 255\n",
    "\n",
    "X_train.shape, Y_train.shape, X_test.shape, Y_test.shape"
   ]
  },
  {
   "cell_type": "markdown",
   "metadata": {
    "colab_type": "text",
    "id": "uN1wQRhgUPOq"
   },
   "source": [
    "## **Data Visualization**"
   ]
  },
  {
   "cell_type": "code",
   "execution_count": 0,
   "metadata": {
    "colab": {},
    "colab_type": "code",
    "id": "KFdhq-XzYiZQ"
   },
   "outputs": [],
   "source": [
    "def visualize(images, labels):\n",
    "  rows = 2\n",
    "  columns = 5\n",
    "  fig=plt.figure(figsize=(10, 6))\n",
    "  for index in range(10):\n",
    "    fig.add_subplot(rows, columns, index + 1, xticks=[], yticks=[])\n",
    "    plt.title(\"Label %i\" % labels[index])\n",
    "    plt.imshow(images[index], cmap=\"gray\")\n",
    "\n",
    "  plt.show()"
   ]
  },
  {
   "cell_type": "code",
   "execution_count": 0,
   "metadata": {
    "colab": {
     "base_uri": "https://localhost:8080/",
     "height": 325
    },
    "colab_type": "code",
    "executionInfo": {
     "elapsed": 1279,
     "status": "ok",
     "timestamp": 1588272905777,
     "user": {
      "displayName": "Maliha Sameen",
      "photoUrl": "",
      "userId": "02324899299454165728"
     },
     "user_tz": -300
    },
    "id": "K-5lU3X9ZxeB",
    "outputId": "3be4d2ad-bcc8-4e1e-d9eb-9173dd85314d"
   },
   "outputs": [
    {
     "data": {
      "image/png": "[encoded data removed]",
      "text/plain": [
       "<Figure size 720x432 with 10 Axes>"
      ]
     },
     "metadata": {
      "tags": []
     },
     "output_type": "display_data"
    }
   ],
   "source": [
    "# Visualize Training Data\n",
    "visualize(X_train, Y_train)"
   ]
  },
  {
   "cell_type": "code",
   "execution_count": 0,
   "metadata": {
    "colab": {
     "base_uri": "https://localhost:8080/",
     "height": 325
    },
    "colab_type": "code",
    "executionInfo": {
     "elapsed": 1298,
     "status": "ok",
     "timestamp": 1588272913796,
     "user": {
      "displayName": "Maliha Sameen",
      "photoUrl": "",
      "userId": "02324899299454165728"
     },
     "user_tz": -300
    },
    "id": "AXD-vBObZxrC",
    "outputId": "a0e1ca8c-b9b5-4509-f99d-7d10061fe960"
   },
   "outputs": [
    {
     "data": {
      "image/png": "[encoded data removed]",
      "text/plain": [
       "<Figure size 720x432 with 10 Axes>"
      ]
     },
     "metadata": {
      "tags": []
     },
     "output_type": "display_data"
    }
   ],
   "source": [
    "# Visualize Testing Data\n",
    "visualize(X_test, Y_test)"
   ]
  },
  {
   "cell_type": "code",
   "execution_count": 0,
   "metadata": {
    "colab": {
     "base_uri": "https://localhost:8080/",
     "height": 34
    },
    "colab_type": "code",
    "executionInfo": {
     "elapsed": 2792,
     "status": "ok",
     "timestamp": 1588274927527,
     "user": {
      "displayName": "Maliha Sameen",
      "photoUrl": "",
      "userId": "02324899299454165728"
     },
     "user_tz": -300
    },
    "id": "PucfsvtCbvnv",
    "outputId": "7402de43-2bd9-4c9b-e745-9e9456e9be32"
   },
   "outputs": [
    {
     "data": {
      "text/plain": [
       "((60000, 784), (60000, 10), (10000, 784), (10000, 10))"
      ]
     },
     "execution_count": 18,
     "metadata": {
      "tags": []
     },
     "output_type": "execute_result"
    }
   ],
   "source": [
    "# Reshaping Images and Labels array\n",
    "from keras.utils import to_categorical\n",
    "\n",
    "X_train = X_train.reshape(60000, 28 * 28)\n",
    "X_test = X_test.reshape(10000, 28 * 28)\n",
    "\n",
    "Y_train = to_categorical(Y_train)\n",
    "Y_test = to_categorical(Y_test)\n",
    "\n",
    "X_train.shape, Y_train.shape, X_test.shape, Y_test.shape"
   ]
  },
  {
   "cell_type": "markdown",
   "metadata": {
    "colab_type": "text",
    "id": "Wb7GCbS7UPiI"
   },
   "source": [
    "## **Define Model**"
   ]
  },
  {
   "cell_type": "code",
   "execution_count": 0,
   "metadata": {
    "colab": {
     "base_uri": "https://localhost:8080/",
     "height": 289
    },
    "colab_type": "code",
    "executionInfo": {
     "elapsed": 1208,
     "status": "ok",
     "timestamp": 1588275371205,
     "user": {
      "displayName": "Maliha Sameen",
      "photoUrl": "",
      "userId": "02324899299454165728"
     },
     "user_tz": -300
    },
    "id": "s8JW9oa1djhq",
    "outputId": "45eec589-573d-4af8-f360-4c0424cb31de"
   },
   "outputs": [
    {
     "name": "stdout",
     "output_type": "stream",
     "text": [
      "Model: \"model\"\n",
      "_________________________________________________________________\n",
      "Layer (type)                 Output Shape              Param #   \n",
      "=================================================================\n",
      "input_image (InputLayer)     [(None, 784)]             0         \n",
      "_________________________________________________________________\n",
      "dense_1 (Dense)              (None, 512)               401920    \n",
      "_________________________________________________________________\n",
      "dense_2 (Dense)              (None, 256)               131328    \n",
      "_________________________________________________________________\n",
      "output (Dense)               (None, 10)                2570      \n",
      "=================================================================\n",
      "Total params: 535,818\n",
      "Trainable params: 535,818\n",
      "Non-trainable params: 0\n",
      "_________________________________________________________________\n"
     ]
    }
   ],
   "source": [
    "# Define Model Layers\n",
    "input_im = keras.layers.Input(shape=(28 * 28,), name=\"input_image\")\n",
    "dense_1 = keras.layers.Dense(512, activation=\"relu\", name=\"dense_1\")(input_im)\n",
    "dense_2 = keras.layers.Dense(256, activation=\"relu\", name=\"dense_2\")(dense_1)\n",
    "output = keras.layers.Dense(10, activation=\"softmax\", name=\"output\")(dense_2)\n",
    "\n",
    "# Define Model Inputs and Output\n",
    "model = keras.models.Model(input_im,output)\n",
    "# Compile Model\n",
    "model.compile(optimizer='adam', loss=\"categorical_crossentropy\", metrics=[\"accuracy\"])\n",
    "# Model Summary\n",
    "model.summary()"
   ]
  },
  {
   "cell_type": "markdown",
   "metadata": {
    "colab_type": "text",
    "id": "R-eMTpe5UPTa"
   },
   "source": [
    "## **Training**"
   ]
  },
  {
   "cell_type": "code",
   "execution_count": 0,
   "metadata": {
    "colab": {
     "base_uri": "https://localhost:8080/",
     "height": 187
    },
    "colab_type": "code",
    "executionInfo": {
     "elapsed": 24292,
     "status": "ok",
     "timestamp": 1588275548691,
     "user": {
      "displayName": "Maliha Sameen",
      "photoUrl": "",
      "userId": "02324899299454165728"
     },
     "user_tz": -300
    },
    "id": "7Z_tWfrBlxXL",
    "outputId": "a0a78ff5-a07c-4c47-d78d-ce7bf52aef49"
   },
   "outputs": [
    {
     "name": "stdout",
     "output_type": "stream",
     "text": [
      "Epoch 1/5\n",
      "469/469 [==============================] - 4s 10ms/step - loss: 0.2306 - accuracy: 0.9322\n",
      "Epoch 2/5\n",
      "469/469 [==============================] - 4s 9ms/step - loss: 0.0823 - accuracy: 0.9749\n",
      "Epoch 3/5\n",
      "469/469 [==============================] - 4s 10ms/step - loss: 0.0519 - accuracy: 0.9841\n",
      "Epoch 4/5\n",
      "469/469 [==============================] - 4s 10ms/step - loss: 0.0362 - accuracy: 0.9886\n",
      "Epoch 5/5\n",
      "469/469 [==============================] - 4s 10ms/step - loss: 0.0261 - accuracy: 0.9915\n"
     ]
    }
   ],
   "source": [
    "history = model.fit(X_train, Y_train, epochs=5, batch_size=128)"
   ]
  },
  {
   "cell_type": "markdown",
   "metadata": {
    "colab_type": "text",
    "id": "ziq9w-EFUPq5"
   },
   "source": [
    "## **Training and Testing Accuracy**"
   ]
  },
  {
   "cell_type": "code",
   "execution_count": 0,
   "metadata": {
    "colab": {
     "base_uri": "https://localhost:8080/",
     "height": 85
    },
    "colab_type": "code",
    "executionInfo": {
     "elapsed": 6036,
     "status": "ok",
     "timestamp": 1588275639185,
     "user": {
      "displayName": "Maliha Sameen",
      "photoUrl": "",
      "userId": "02324899299454165728"
     },
     "user_tz": -300
    },
    "id": "vxJCC69_mcou",
    "outputId": "0d222759-f2cc-4e97-ebaf-2234c1e4fd6a"
   },
   "outputs": [
    {
     "name": "stdout",
     "output_type": "stream",
     "text": [
      "1875/1875 [==============================] - 4s 2ms/step - loss: 0.0216 - accuracy: 0.9930\n",
      "313/313 [==============================] - 1s 2ms/step - loss: 0.0670 - accuracy: 0.9799\n",
      "Training Accuray:  99.29666519165039\n",
      "Testing Accuray:  97.99000024795532\n"
     ]
    }
   ],
   "source": [
    "_, train_acc = model.evaluate(X_train, Y_train)\n",
    "_, test_acc = model.evaluate(X_test, Y_test)\n",
    "\n",
    "print('Training Accuray: ', train_acc * 100)\n",
    "print('Testing Accuray: ', test_acc * 100)"
   ]
  },
  {
   "cell_type": "markdown",
   "metadata": {
    "colab_type": "text",
    "id": "N76CX8gGUP4L"
   },
   "source": [
    "## **Evaluation Metrics Report**"
   ]
  },
  {
   "cell_type": "code",
   "execution_count": 0,
   "metadata": {
    "colab": {
     "base_uri": "https://localhost:8080/",
     "height": 306
    },
    "colab_type": "code",
    "executionInfo": {
     "elapsed": 1926,
     "status": "ok",
     "timestamp": 1588275991240,
     "user": {
      "displayName": "Maliha Sameen",
      "photoUrl": "",
      "userId": "02324899299454165728"
     },
     "user_tz": -300
    },
    "id": "pPOOAB2Zm37k",
    "outputId": "e0db2311-fe6e-4859-9185-423a35e01fcc"
   },
   "outputs": [
    {
     "name": "stdout",
     "output_type": "stream",
     "text": [
      "              precision    recall  f1-score   support\n",
      "\n",
      "           0       0.98      0.99      0.98       980\n",
      "           1       1.00      0.99      0.99      1135\n",
      "           2       0.97      0.98      0.98      1032\n",
      "           3       0.97      0.99      0.98      1010\n",
      "           4       0.98      0.98      0.98       982\n",
      "           5       0.99      0.97      0.98       892\n",
      "           6       0.98      0.99      0.98       958\n",
      "           7       0.98      0.98      0.98      1028\n",
      "           8       0.98      0.96      0.97       974\n",
      "           9       0.96      0.98      0.97      1009\n",
      "\n",
      "    accuracy                           0.98     10000\n",
      "   macro avg       0.98      0.98      0.98     10000\n",
      "weighted avg       0.98      0.98      0.98     10000\n",
      "\n"
     ]
    }
   ],
   "source": [
    "# Evaluate\n",
    "pred_cat = model.predict(X_test)\n",
    "predicted = [np.argmax(i) for i in pred_cat]\n",
    "predicted = np.array(predicted)\n",
    "actual = [np.argmax(i) for i in Y_test]\n",
    "actual = np.array(actual)\n",
    "\n",
    "# Metrics Report\n",
    "report = metrics.classification_report(y_pred=predicted, y_true=actual)\n",
    "print(report)"
   ]
  },
  {
   "cell_type": "markdown",
   "metadata": {
    "colab_type": "text",
    "id": "CNQzJ15rUP-F"
   },
   "source": [
    "## **Accuracy Curve**"
   ]
  },
  {
   "cell_type": "code",
   "execution_count": 0,
   "metadata": {
    "colab": {
     "base_uri": "https://localhost:8080/",
     "height": 295
    },
    "colab_type": "code",
    "executionInfo": {
     "elapsed": 1372,
     "status": "ok",
     "timestamp": 1588276156521,
     "user": {
      "displayName": "Maliha Sameen",
      "photoUrl": "",
      "userId": "02324899299454165728"
     },
     "user_tz": -300
    },
    "id": "yGogP2DhoJfQ",
    "outputId": "182fcc37-dce3-41d8-a674-b4b03d4a3b8f"
   },
   "outputs": [
    {
     "data": {
      "image/png": "[encoded data removed]",
      "text/plain": [
       "<Figure size 432x288 with 1 Axes>"
      ]
     },
     "metadata": {
      "needs_background": "light",
      "tags": []
     },
     "output_type": "display_data"
    }
   ],
   "source": [
    "# Plotting Training Accuracy\n",
    "plt.plot(history.history['accuracy'])  \n",
    "plt.title('Training Accuracy')  \n",
    "plt.ylabel('Accuracy')  \n",
    "plt.xlabel('Epoch')  \n",
    "plt.legend(['train']) \n",
    "plt.show()"
   ]
  },
  {
   "cell_type": "markdown",
   "metadata": {
    "colab_type": "text",
    "id": "qitZXxSmUP7H"
   },
   "source": [
    "## **Loss Curve**"
   ]
  },
  {
   "cell_type": "code",
   "execution_count": 0,
   "metadata": {
    "colab": {
     "base_uri": "https://localhost:8080/",
     "height": 295
    },
    "colab_type": "code",
    "executionInfo": {
     "elapsed": 1526,
     "status": "ok",
     "timestamp": 1588276238144,
     "user": {
      "displayName": "Maliha Sameen",
      "photoUrl": "",
      "userId": "02324899299454165728"
     },
     "user_tz": -300
    },
    "id": "S1254c3doLiL",
    "outputId": "80b3fbff-b946-479b-955b-487ca3f24526"
   },
   "outputs": [
    {
     "data": {
      "image/png": "[encoded data removed]",
      "text/plain": [
       "<Figure size 432x288 with 1 Axes>"
      ]
     },
     "metadata": {
      "needs_background": "light",
      "tags": []
     },
     "output_type": "display_data"
    }
   ],
   "source": [
    "# Plotting Training Loss\n",
    "plt.plot(history.history['loss'])  \n",
    "plt.title('Training Loss')  \n",
    "plt.ylabel('Loss')  \n",
    "plt.xlabel('Epoch')  \n",
    "plt.legend(['train']) \n",
    "plt.show()"
   ]
  },
  {
   "cell_type": "markdown",
   "metadata": {
    "colab_type": "text",
    "id": "2J0SatcbUP0V"
   },
   "source": [
    "## **Confusion Matrix**"
   ]
  },
  {
   "cell_type": "code",
   "execution_count": 0,
   "metadata": {
    "colab": {
     "base_uri": "https://localhost:8080/",
     "height": 459
    },
    "colab_type": "code",
    "executionInfo": {
     "elapsed": 1579,
     "status": "ok",
     "timestamp": 1588276563172,
     "user": {
      "displayName": "Maliha Sameen",
      "photoUrl": "",
      "userId": "02324899299454165728"
     },
     "user_tz": -300
    },
    "id": "TjTHdn1OpD2M",
    "outputId": "b6762cd1-bc73-474f-a85f-243eec92a149"
   },
   "outputs": [
    {
     "data": {
      "text/plain": [
       "<matplotlib.axes._subplots.AxesSubplot at 0x7f2cc19a75c0>"
      ]
     },
     "execution_count": 32,
     "metadata": {
      "tags": []
     },
     "output_type": "execute_result"
    },
    {
     "data": {
      "image/png": "[encoded data removed]",
      "text/plain": [
       "<Figure size 720x504 with 2 Axes>"
      ]
     },
     "metadata": {
      "needs_background": "light",
      "tags": []
     },
     "output_type": "display_data"
    }
   ],
   "source": [
    "# Confusion Matrix\n",
    "cm = metrics.confusion_matrix(actual, predicted)\n",
    "\n",
    "df_cm = pd.DataFrame(cm, columns=np.unique(actual), index = np.unique(predicted))\n",
    "df_cm.index.name = 'Actual'\n",
    "df_cm.columns.name = 'Predicted'\n",
    "\n",
    "plt.figure(figsize = (10, 7))\n",
    "sns.heatmap(df_cm, cmap=\"Blues\", annot=True,annot_kws={\"size\": 8})"
   ]
  },
  {
   "cell_type": "markdown",
   "metadata": {
    "colab_type": "text",
    "id": "4aDEaXJiUPxR"
   },
   "source": [
    "## **Testing**"
   ]
  },
  {
   "cell_type": "code",
   "execution_count": 0,
   "metadata": {
    "colab": {},
    "colab_type": "code",
    "id": "hVXFeIMpqnCp"
   },
   "outputs": [],
   "source": [
    "def inference(images):\n",
    "  rows = 2\n",
    "  columns = 5\n",
    "  fig=plt.figure(figsize=(10, 6))\n",
    "  for index in range(10):\n",
    "    fig.add_subplot(rows, columns, index+1, xticks=[], yticks=[])\n",
    "    image = images[index].reshape(1, 28 * 28)\n",
    "    label = model.predict(image)\n",
    "    image = image.reshape(28, 28)\n",
    "    plt.title(\"Label \" + str(np.argmax(label)))\n",
    "    plt.imshow(image, cmap=\"gray\")\n",
    "  plt.show()"
   ]
  },
  {
   "cell_type": "code",
   "execution_count": 0,
   "metadata": {
    "colab": {
     "base_uri": "https://localhost:8080/",
     "height": 325
    },
    "colab_type": "code",
    "executionInfo": {
     "elapsed": 2515,
     "status": "ok",
     "timestamp": 1588277584338,
     "user": {
      "displayName": "Maliha Sameen",
      "photoUrl": "",
      "userId": "02324899299454165728"
     },
     "user_tz": -300
    },
    "id": "VbJtA4LXsEPv",
    "outputId": "1cacb29c-a322-4d9f-da53-ea8df4d7f3ed"
   },
   "outputs": [
    {
     "data": {
      "image/png": "[encoded data removed]",
      "text/plain": [
       "<Figure size 720x432 with 10 Axes>"
      ]
     },
     "metadata": {
      "tags": []
     },
     "output_type": "display_data"
    }
   ],
   "source": [
    "inference(X_test)"
   ]
  }
 ],
 "metadata": {
  "colab": {
   "authorship_tag": "ABX9TyPkWrbS4L6bIumxyO4Qwtak",
   "collapsed_sections": [],
   "name": "mnist-dnn.ipynb",
   "provenance": [],
   "toc_visible": true
  },
  "kernelspec": {
   "display_name": "Python 3",
   "language": "python",
   "name": "python3"
  },
  "language_info": {
   "codemirror_mode": {
    "name": "ipython",
    "version": 3
   },
   "file_extension": ".py",
   "mimetype": "text/x-python",
   "name": "python",
   "nbconvert_exporter": "python",
   "pygments_lexer": "ipython3",
   "version": "3.7.6"
  }
 },
 "nbformat": 4,
 "nbformat_minor": 1
}
