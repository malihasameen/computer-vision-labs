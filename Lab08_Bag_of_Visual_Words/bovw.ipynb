{
 "cells": [
  {
   "cell_type": "markdown",
   "metadata": {
    "colab_type": "text",
    "id": "ChLztZ4UHwwv"
   },
   "source": [
    "# **Lab08: Bag of Visual Words**"
   ]
  },
  {
   "cell_type": "code",
   "execution_count": 0,
   "metadata": {
    "colab": {},
    "colab_type": "code",
    "id": "59qo3RWVHjeq"
   },
   "outputs": [],
   "source": [
    "# Import Statements\n",
    "!pip install opencv-python==3.4.2.16\n",
    "!pip install opencv-contrib-python==3.4.2.16\n",
    "import cv2\n",
    "import numpy as np\n",
    "import matplotlib.pyplot as plt\n",
    "import os"
   ]
  },
  {
   "cell_type": "code",
   "execution_count": 0,
   "metadata": {
    "colab": {},
    "colab_type": "code",
    "id": "g4nxBMZeqZDO"
   },
   "outputs": [],
   "source": [
    "# Load Data\n",
    "def load_data(path):\n",
    "  image_list = {}\n",
    "  count = 0\n",
    "\n",
    "  for word in os.listdir(path):\n",
    "    image_list[word] = []\n",
    "    for image_file in os.listdir(path + \"/\" + word):\n",
    "      image = cv2.imread(path + \"/\" + word + \"/\" + image_file, 0)\n",
    "      image_list[word].append(image)\n",
    "      count += 1\n",
    "\n",
    "  return image_list, count\n",
    "\n",
    "# Load train and test data\n",
    "train_dict, train_count = load_data(\"images/train\")\n",
    "test_dict, test_count = load_data(\"images/test\")"
   ]
  },
  {
   "cell_type": "code",
   "execution_count": 5,
   "metadata": {
    "colab": {
     "base_uri": "https://localhost:8080/",
     "height": 1000
    },
    "colab_type": "code",
    "executionInfo": {
     "elapsed": 966,
     "status": "ok",
     "timestamp": 1586707192332,
     "user": {
      "displayName": "Maliha Sameen",
      "photoUrl": "",
      "userId": "02324899299454165728"
     },
     "user_tz": -300
    },
    "id": "ILyUlzkcHfnc",
    "outputId": "5f2a44ca-bf2a-4141-e02e-da03b10a722a"
   },
   "outputs": [
    {
     "data": {
      "text/plain": [
       "({'Soccer_Ball': [array([[179, 200, 200, ..., 203, 209, 191],\n",
       "          [209, 206, 189, ..., 179, 178, 213],\n",
       "          [219, 173, 199, ..., 197, 199, 214],\n",
       "          ...,\n",
       "          [207, 207, 211, ..., 195, 195, 194],\n",
       "          [187, 191, 191, ..., 198, 196, 195],\n",
       "          [193, 211, 195, ..., 194, 194, 193]], dtype=uint8),\n",
       "   array([[255, 255, 255, ..., 255, 255, 255],\n",
       "          [255, 255, 255, ..., 255, 255, 255],\n",
       "          [255, 255, 255, ..., 255, 255, 255],\n",
       "          ...,\n",
       "          [255, 255, 255, ..., 254, 254, 254],\n",
       "          [255, 255, 255, ..., 254, 254, 254],\n",
       "          [255, 255, 255, ..., 255, 255, 255]], dtype=uint8),\n",
       "   array([[170, 170, 170, ..., 176, 176, 175],\n",
       "          [170, 170, 170, ..., 174, 174, 174],\n",
       "          [170, 170, 170, ..., 172, 172, 173],\n",
       "          ...,\n",
       "          [ 31,  34,  34, ...,  78, 101, 114],\n",
       "          [ 31,  31,  29, ...,  80, 106, 121],\n",
       "          [ 25,  28,  30, ...,  80, 105, 120]], dtype=uint8),\n",
       "   array([[126, 104,  79, ...,  83,  79,  74],\n",
       "          [ 99,  88,  69, ...,  94,  90,  84],\n",
       "          [ 84,  84,  74, ...,  91,  89,  85],\n",
       "          ...,\n",
       "          [ 78,  55,  52, ...,  32,  33,  32],\n",
       "          [ 64,  48,  53, ...,  22,  26,  28],\n",
       "          [ 68,  41,  45, ...,  15,  29,  38]], dtype=uint8),\n",
       "   array([[255, 255, 255, ..., 255, 255, 255],\n",
       "          [255, 255, 255, ..., 255, 255, 255],\n",
       "          [255, 255, 255, ..., 255, 255, 255],\n",
       "          ...,\n",
       "          [255, 255, 255, ..., 255, 255, 255],\n",
       "          [255, 255, 255, ..., 255, 255, 255],\n",
       "          [255, 255, 255, ..., 255, 255, 255]], dtype=uint8),\n",
       "   array([[255, 255, 255, ..., 255, 255, 255],\n",
       "          [255, 255, 255, ..., 255, 255, 255],\n",
       "          [255, 255, 255, ..., 255, 255, 255],\n",
       "          ...,\n",
       "          [255, 255, 255, ..., 255, 255, 255],\n",
       "          [255, 255, 255, ..., 255, 255, 255],\n",
       "          [255, 255, 255, ..., 255, 255, 255]], dtype=uint8),\n",
       "   array([[186, 186, 186, ..., 186, 186, 186],\n",
       "          [186, 186, 186, ..., 186, 186, 186],\n",
       "          [186, 186, 186, ..., 186, 186, 186],\n",
       "          ...,\n",
       "          [186, 186, 186, ..., 130, 129, 124],\n",
       "          [186, 186, 186, ..., 130, 129, 123],\n",
       "          [186, 186, 186, ..., 130, 129, 123]], dtype=uint8),\n",
       "   array([[11, 10,  9, ..., 22, 11, 19],\n",
       "          [ 8, 10, 14, ..., 11,  3,  7],\n",
       "          [12, 10, 14, ..., 14, 10,  9],\n",
       "          ...,\n",
       "          [14, 14, 13, ...,  9, 13, 14],\n",
       "          [13, 13, 13, ..., 12, 12,  8],\n",
       "          [13, 12, 12, ..., 14, 10,  2]], dtype=uint8),\n",
       "   array([[255, 255, 255, ..., 255, 255, 255],\n",
       "          [255, 255, 255, ..., 255, 255, 255],\n",
       "          [255, 255, 255, ..., 255, 255, 255],\n",
       "          ...,\n",
       "          [255, 255, 255, ..., 255, 255, 255],\n",
       "          [255, 255, 255, ..., 255, 255, 255],\n",
       "          [255, 255, 255, ..., 255, 255, 255]], dtype=uint8),\n",
       "   array([[37, 37, 37, ..., 37, 37, 37],\n",
       "          [37, 37, 37, ..., 37, 37, 37],\n",
       "          [37, 37, 37, ..., 37, 37, 37],\n",
       "          ...,\n",
       "          [37, 37, 37, ..., 37, 37, 37],\n",
       "          [37, 37, 37, ..., 37, 37, 37],\n",
       "          [37, 37, 37, ..., 37, 37, 37]], dtype=uint8),\n",
       "   array([[255, 255, 255, ..., 255, 255, 255],\n",
       "          [255, 255, 255, ..., 255, 255, 255],\n",
       "          [255, 255, 255, ..., 255, 255, 255],\n",
       "          ...,\n",
       "          [255, 255, 255, ..., 255, 255, 255],\n",
       "          [255, 255, 255, ..., 255, 255, 255],\n",
       "          [255, 255, 255, ..., 255, 255, 255]], dtype=uint8),\n",
       "   array([[255, 255, 255, ..., 255, 255, 255],\n",
       "          [255, 255, 255, ..., 255, 255, 255],\n",
       "          [255, 255, 255, ..., 255, 255, 255],\n",
       "          ...,\n",
       "          [255, 255, 255, ..., 255, 255, 255],\n",
       "          [255, 255, 255, ..., 255, 255, 255],\n",
       "          [255, 255, 255, ..., 255, 255, 255]], dtype=uint8),\n",
       "   array([[ 77,  82,  78, ...,  80,  81,  89],\n",
       "          [ 94,  78,  69, ...,  87,  82,  83],\n",
       "          [ 83,  73,  68, ...,  85,  80,  75],\n",
       "          ...,\n",
       "          [ 80,  69,  74, ...,  82,  84,  79],\n",
       "          [ 77,  74,  77, ...,  82,  83,  77],\n",
       "          [ 63,  71,  74, ..., 126, 123, 114]], dtype=uint8),\n",
       "   array([[250, 250, 250, ..., 251, 251, 251],\n",
       "          [250, 250, 250, ..., 251, 251, 251],\n",
       "          [250, 250, 250, ..., 251, 251, 251],\n",
       "          ...,\n",
       "          [240, 240, 240, ..., 249, 249, 249],\n",
       "          [240, 240, 240, ..., 249, 249, 249],\n",
       "          [240, 240, 240, ..., 249, 249, 249]], dtype=uint8)],\n",
       "  'accordion': [array([[0, 0, 0, ..., 0, 0, 0],\n",
       "          [0, 0, 0, ..., 0, 0, 0],\n",
       "          [0, 0, 0, ..., 0, 0, 0],\n",
       "          ...,\n",
       "          [0, 0, 0, ..., 0, 0, 0],\n",
       "          [0, 0, 0, ..., 0, 0, 0],\n",
       "          [0, 0, 0, ..., 0, 0, 0]], dtype=uint8),\n",
       "   array([[0, 0, 0, ..., 0, 0, 0],\n",
       "          [0, 0, 0, ..., 0, 0, 0],\n",
       "          [0, 0, 0, ..., 0, 0, 0],\n",
       "          ...,\n",
       "          [0, 0, 0, ..., 0, 0, 0],\n",
       "          [0, 0, 0, ..., 0, 0, 0],\n",
       "          [0, 0, 0, ..., 0, 0, 0]], dtype=uint8),\n",
       "   array([[0, 0, 0, ..., 0, 0, 0],\n",
       "          [0, 0, 0, ..., 0, 0, 0],\n",
       "          [0, 0, 0, ..., 0, 0, 0],\n",
       "          ...,\n",
       "          [0, 0, 0, ..., 0, 0, 0],\n",
       "          [0, 0, 0, ..., 0, 0, 0],\n",
       "          [0, 0, 0, ..., 0, 0, 0]], dtype=uint8),\n",
       "   array([[0, 0, 0, ..., 0, 0, 0],\n",
       "          [0, 0, 0, ..., 0, 0, 0],\n",
       "          [0, 0, 0, ..., 0, 0, 0],\n",
       "          ...,\n",
       "          [0, 0, 0, ..., 0, 0, 0],\n",
       "          [0, 0, 0, ..., 0, 0, 0],\n",
       "          [0, 0, 0, ..., 0, 0, 0]], dtype=uint8),\n",
       "   array([[0, 0, 0, ..., 0, 0, 0],\n",
       "          [0, 0, 0, ..., 0, 0, 0],\n",
       "          [0, 0, 0, ..., 0, 0, 0],\n",
       "          ...,\n",
       "          [0, 0, 0, ..., 0, 0, 0],\n",
       "          [0, 0, 0, ..., 0, 0, 0],\n",
       "          [0, 0, 0, ..., 0, 0, 0]], dtype=uint8),\n",
       "   array([[0, 0, 0, ..., 0, 0, 0],\n",
       "          [0, 0, 0, ..., 0, 0, 0],\n",
       "          [0, 0, 0, ..., 0, 0, 0],\n",
       "          ...,\n",
       "          [0, 0, 0, ..., 0, 0, 0],\n",
       "          [0, 0, 0, ..., 0, 0, 0],\n",
       "          [0, 0, 0, ..., 0, 0, 0]], dtype=uint8),\n",
       "   array([[0, 0, 0, ..., 0, 0, 0],\n",
       "          [0, 0, 0, ..., 0, 0, 0],\n",
       "          [0, 0, 0, ..., 0, 0, 0],\n",
       "          ...,\n",
       "          [0, 0, 0, ..., 0, 0, 0],\n",
       "          [0, 0, 0, ..., 0, 0, 0],\n",
       "          [0, 0, 0, ..., 0, 0, 0]], dtype=uint8),\n",
       "   array([[0, 0, 0, ..., 0, 0, 0],\n",
       "          [0, 0, 0, ..., 0, 0, 0],\n",
       "          [0, 0, 0, ..., 0, 0, 0],\n",
       "          ...,\n",
       "          [0, 0, 0, ..., 0, 0, 0],\n",
       "          [0, 0, 0, ..., 0, 0, 0],\n",
       "          [0, 0, 0, ..., 0, 0, 0]], dtype=uint8),\n",
       "   array([[0, 0, 0, ..., 0, 0, 0],\n",
       "          [0, 0, 0, ..., 0, 0, 0],\n",
       "          [0, 0, 0, ..., 0, 0, 0],\n",
       "          ...,\n",
       "          [0, 0, 0, ..., 0, 0, 0],\n",
       "          [0, 0, 0, ..., 0, 0, 0],\n",
       "          [0, 0, 0, ..., 0, 0, 0]], dtype=uint8),\n",
       "   array([[0, 0, 0, ..., 0, 0, 0],\n",
       "          [0, 0, 0, ..., 0, 0, 0],\n",
       "          [0, 0, 0, ..., 0, 0, 0],\n",
       "          ...,\n",
       "          [0, 0, 0, ..., 0, 0, 0],\n",
       "          [0, 0, 0, ..., 0, 0, 0],\n",
       "          [0, 0, 0, ..., 0, 0, 0]], dtype=uint8),\n",
       "   array([[0, 0, 0, ..., 0, 0, 0],\n",
       "          [0, 0, 0, ..., 0, 0, 0],\n",
       "          [0, 0, 0, ..., 0, 0, 0],\n",
       "          ...,\n",
       "          [0, 0, 0, ..., 0, 0, 0],\n",
       "          [0, 0, 0, ..., 0, 0, 0],\n",
       "          [0, 0, 0, ..., 0, 0, 0]], dtype=uint8),\n",
       "   array([[0, 0, 0, ..., 0, 0, 0],\n",
       "          [0, 0, 0, ..., 0, 0, 0],\n",
       "          [0, 0, 0, ..., 0, 0, 0],\n",
       "          ...,\n",
       "          [0, 0, 0, ..., 0, 0, 0],\n",
       "          [0, 0, 0, ..., 0, 0, 0],\n",
       "          [0, 0, 0, ..., 0, 0, 0]], dtype=uint8),\n",
       "   array([[0, 0, 0, ..., 0, 0, 0],\n",
       "          [0, 0, 0, ..., 0, 0, 0],\n",
       "          [0, 0, 0, ..., 0, 0, 0],\n",
       "          ...,\n",
       "          [0, 0, 0, ..., 0, 0, 0],\n",
       "          [0, 0, 0, ..., 0, 0, 0],\n",
       "          [0, 0, 0, ..., 0, 0, 0]], dtype=uint8),\n",
       "   array([[0, 0, 0, ..., 0, 0, 0],\n",
       "          [0, 0, 0, ..., 0, 0, 0],\n",
       "          [0, 0, 0, ..., 0, 0, 0],\n",
       "          ...,\n",
       "          [0, 0, 0, ..., 0, 0, 0],\n",
       "          [0, 0, 0, ..., 0, 0, 0],\n",
       "          [0, 0, 0, ..., 0, 0, 0]], dtype=uint8)],\n",
       "  'dollar_bill': [array([[255, 245, 238, ..., 225, 225, 224],\n",
       "          [241, 249, 255, ..., 229, 228, 228],\n",
       "          [247, 244, 242, ..., 234, 233, 232],\n",
       "          ...,\n",
       "          [253, 253, 250, ..., 227, 225, 224],\n",
       "          [252, 253, 252, ..., 233, 231, 229],\n",
       "          [247, 248, 248, ..., 233, 232, 230]], dtype=uint8),\n",
       "   array([[207, 219, 219, ..., 229, 232, 238],\n",
       "          [203, 213, 214, ..., 224, 225, 228],\n",
       "          [206, 211, 207, ..., 228, 226, 227],\n",
       "          ...,\n",
       "          [166, 168, 170, ..., 222, 220, 224],\n",
       "          [235, 237, 238, ..., 189, 184, 185],\n",
       "          [220, 222, 223, ..., 152, 142, 140]], dtype=uint8),\n",
       "   array([[0, 0, 0, ..., 0, 0, 0],\n",
       "          [0, 0, 0, ..., 0, 0, 0],\n",
       "          [0, 0, 0, ..., 0, 0, 0],\n",
       "          ...,\n",
       "          [0, 0, 0, ..., 0, 0, 0],\n",
       "          [1, 1, 1, ..., 0, 0, 0],\n",
       "          [0, 0, 0, ..., 0, 0, 0]], dtype=uint8),\n",
       "   array([[248, 246, 255, ..., 255, 255, 255],\n",
       "          [246, 224, 246, ..., 255, 255, 255],\n",
       "          [248, 237, 251, ..., 255, 255, 255],\n",
       "          ...,\n",
       "          [248, 250,  59, ..., 255, 255, 255],\n",
       "          [249, 242,  92, ..., 255, 255, 255],\n",
       "          [229, 255, 221, ..., 255, 255, 255]], dtype=uint8),\n",
       "   array([[255, 255, 255, ..., 255, 255, 255],\n",
       "          [255, 255, 255, ..., 255, 255, 255],\n",
       "          [255, 255, 255, ..., 254, 254, 255],\n",
       "          ...,\n",
       "          [255, 255, 255, ..., 255, 255, 255],\n",
       "          [255, 255, 255, ..., 255, 255, 255],\n",
       "          [255, 255, 255, ..., 255, 255, 255]], dtype=uint8),\n",
       "   array([[63, 60, 80, ..., 29, 30, 19],\n",
       "          [95, 48, 48, ..., 32, 32, 19],\n",
       "          [85, 45, 93, ..., 41, 42, 33],\n",
       "          ...,\n",
       "          [50, 71, 58, ..., 59, 50, 37],\n",
       "          [50, 69, 77, ..., 34, 29, 21],\n",
       "          [89, 63, 62, ..., 13, 14, 14]], dtype=uint8),\n",
       "   array([[0, 0, 0, ..., 0, 0, 0],\n",
       "          [0, 0, 0, ..., 0, 0, 0],\n",
       "          [0, 0, 0, ..., 0, 0, 0],\n",
       "          ...,\n",
       "          [0, 0, 0, ..., 0, 0, 0],\n",
       "          [0, 0, 0, ..., 0, 0, 0],\n",
       "          [0, 0, 0, ..., 0, 0, 0]], dtype=uint8),\n",
       "   array([[77, 78, 79, ..., 81, 80, 83],\n",
       "          [70, 64, 62, ..., 70, 66, 68],\n",
       "          [88, 91, 95, ..., 70, 68, 72],\n",
       "          ...,\n",
       "          [70, 72, 74, ..., 61, 59, 58],\n",
       "          [69, 68, 69, ..., 51, 50, 59],\n",
       "          [70, 71, 73, ..., 52, 50, 59]], dtype=uint8),\n",
       "   array([[169, 166, 175, ...,  58,  67,  77],\n",
       "          [169, 169, 172, ...,  81,  87,  92],\n",
       "          [170, 173, 169, ...,  90,  92,  94],\n",
       "          ...,\n",
       "          [205, 205, 205, ..., 110, 110, 110],\n",
       "          [204, 204, 204, ..., 106, 106, 110],\n",
       "          [204, 204, 204, ..., 106, 106, 110]], dtype=uint8),\n",
       "   array([[53, 49, 46, ..., 60, 55, 51],\n",
       "          [48, 48, 49, ..., 56, 51, 48],\n",
       "          [43, 47, 51, ..., 56, 52, 50],\n",
       "          ...,\n",
       "          [44, 47, 46, ..., 49, 49, 49],\n",
       "          [45, 49, 50, ..., 49, 49, 49],\n",
       "          [45, 51, 52, ..., 49, 49, 49]], dtype=uint8),\n",
       "   array([[240, 247, 245, ..., 231, 232, 231],\n",
       "          [245, 249, 247, ..., 236, 235, 231],\n",
       "          [244, 248, 247, ..., 231, 230, 227],\n",
       "          ...,\n",
       "          [251, 252, 252, ..., 233, 230, 228],\n",
       "          [251, 252, 252, ..., 227, 224, 222],\n",
       "          [251, 252, 252, ..., 223, 221, 219]], dtype=uint8),\n",
       "   array([[190, 211, 180, ..., 255, 255, 255],\n",
       "          [255, 150, 255, ..., 255, 255, 255],\n",
       "          [181, 255, 234, ..., 255, 255, 255],\n",
       "          ...,\n",
       "          [255, 169, 255, ..., 248, 250, 253],\n",
       "          [196, 243, 170, ..., 255, 255, 255],\n",
       "          [243, 204, 249, ..., 255, 255, 255]], dtype=uint8),\n",
       "   array([[106, 104, 102, ...,  58,  57,  61],\n",
       "          [103, 102, 100, ...,  57,  54,  58],\n",
       "          [100,  99,  97, ...,  69,  67,  69],\n",
       "          ...,\n",
       "          [116, 111, 106, ...,  82,  88,  87],\n",
       "          [110, 106, 104, ...,  88,  89,  83],\n",
       "          [107, 106, 107, ...,  89,  89,  81]], dtype=uint8),\n",
       "   array([[250, 255, 252, ..., 247, 215, 235],\n",
       "          [238, 251, 249, ..., 226, 233, 229],\n",
       "          [227, 246, 248, ..., 211, 245, 218],\n",
       "          ...,\n",
       "          [255, 255, 255, ..., 235, 232, 232],\n",
       "          [254, 254, 254, ..., 237, 236, 240],\n",
       "          [254, 254, 254, ..., 239, 238, 242]], dtype=uint8)],\n",
       "  'motorbike': [array([[255, 255, 255, ..., 255, 255, 255],\n",
       "          [255, 255, 255, ..., 255, 255, 255],\n",
       "          [255, 255, 255, ..., 255, 255, 255],\n",
       "          ...,\n",
       "          [255, 255, 255, ..., 255, 255, 255],\n",
       "          [255, 255, 255, ..., 255, 255, 255],\n",
       "          [255, 255, 255, ..., 255, 255, 255]], dtype=uint8),\n",
       "   array([[255, 255, 255, ..., 255, 255, 255],\n",
       "          [255, 255, 255, ..., 255, 255, 255],\n",
       "          [255, 255, 255, ..., 255, 255, 255],\n",
       "          ...,\n",
       "          [255, 255, 255, ..., 255, 255, 255],\n",
       "          [255, 255, 255, ..., 255, 255, 255],\n",
       "          [255, 255, 255, ..., 255, 255, 255]], dtype=uint8),\n",
       "   array([[255, 255, 255, ..., 255, 255, 255],\n",
       "          [255, 255, 255, ..., 255, 255, 255],\n",
       "          [255, 255, 255, ..., 255, 255, 255],\n",
       "          ...,\n",
       "          [255, 255, 255, ..., 255, 255, 255],\n",
       "          [255, 255, 255, ..., 255, 255, 255],\n",
       "          [255, 255, 255, ..., 255, 255, 255]], dtype=uint8),\n",
       "   array([[255, 255, 255, ..., 255, 255, 255],\n",
       "          [255, 255, 255, ..., 255, 255, 255],\n",
       "          [255, 255, 255, ..., 255, 255, 255],\n",
       "          ...,\n",
       "          [255, 255, 255, ..., 255, 255, 255],\n",
       "          [255, 255, 255, ..., 255, 255, 255],\n",
       "          [255, 255, 255, ..., 255, 255, 255]], dtype=uint8),\n",
       "   array([[255, 255, 255, ..., 255, 255, 255],\n",
       "          [255, 255, 255, ..., 255, 255, 255],\n",
       "          [255, 255, 255, ..., 255, 255, 255],\n",
       "          ...,\n",
       "          [255, 255, 255, ..., 255, 255, 255],\n",
       "          [255, 255, 255, ..., 255, 255, 255],\n",
       "          [255, 255, 255, ..., 255, 255, 255]], dtype=uint8),\n",
       "   array([[255, 255, 255, ..., 255, 255, 255],\n",
       "          [255, 255, 255, ..., 255, 255, 255],\n",
       "          [255, 255, 255, ..., 255, 255, 255],\n",
       "          ...,\n",
       "          [255, 255, 255, ..., 255, 255, 255],\n",
       "          [255, 255, 255, ..., 255, 255, 255],\n",
       "          [255, 255, 255, ..., 255, 255, 255]], dtype=uint8),\n",
       "   array([[255, 255, 255, ..., 255, 255, 255],\n",
       "          [255, 255, 255, ..., 255, 255, 255],\n",
       "          [255, 255, 255, ..., 255, 255, 255],\n",
       "          ...,\n",
       "          [255, 255, 255, ..., 255, 255, 255],\n",
       "          [255, 255, 255, ..., 255, 255, 255],\n",
       "          [255, 255, 255, ..., 255, 255, 255]], dtype=uint8),\n",
       "   array([[255, 255, 255, ..., 255, 255, 255],\n",
       "          [255, 255, 255, ..., 255, 255, 255],\n",
       "          [255, 255, 255, ..., 255, 255, 255],\n",
       "          ...,\n",
       "          [255, 255, 255, ..., 255, 255, 255],\n",
       "          [255, 255, 255, ..., 255, 255, 255],\n",
       "          [255, 255, 255, ..., 255, 255, 255]], dtype=uint8),\n",
       "   array([[255, 255, 255, ..., 255, 255, 255],\n",
       "          [255, 255, 255, ..., 255, 255, 255],\n",
       "          [255, 255, 255, ..., 255, 255, 255],\n",
       "          ...,\n",
       "          [255, 255, 255, ..., 255, 255, 255],\n",
       "          [255, 255, 255, ..., 255, 255, 255],\n",
       "          [255, 255, 255, ..., 255, 255, 255]], dtype=uint8),\n",
       "   array([[255, 255, 255, ..., 255, 255, 255],\n",
       "          [255, 255, 255, ..., 255, 255, 255],\n",
       "          [255, 255, 255, ..., 255, 255, 255],\n",
       "          ...,\n",
       "          [255, 255, 255, ..., 255, 255, 255],\n",
       "          [255, 255, 255, ..., 255, 255, 255],\n",
       "          [255, 255, 255, ..., 255, 255, 255]], dtype=uint8),\n",
       "   array([[255, 255, 255, ..., 255, 255, 255],\n",
       "          [255, 255, 255, ..., 255, 255, 255],\n",
       "          [255, 255, 255, ..., 255, 255, 255],\n",
       "          ...,\n",
       "          [255, 255, 255, ..., 255, 255, 255],\n",
       "          [255, 255, 255, ..., 255, 255, 255],\n",
       "          [255, 255, 255, ..., 255, 255, 255]], dtype=uint8),\n",
       "   array([[255, 255, 255, ..., 255, 255, 255],\n",
       "          [255, 255, 255, ..., 255, 255, 255],\n",
       "          [255, 255, 255, ..., 255, 255, 255],\n",
       "          ...,\n",
       "          [255, 255, 255, ..., 255, 255, 255],\n",
       "          [255, 255, 255, ..., 255, 255, 255],\n",
       "          [255, 255, 255, ..., 255, 255, 255]], dtype=uint8),\n",
       "   array([[255, 255, 255, ..., 255, 255, 255],\n",
       "          [255, 255, 255, ..., 255, 255, 255],\n",
       "          [255, 255, 255, ..., 255, 255, 255],\n",
       "          ...,\n",
       "          [255, 255, 255, ..., 255, 255, 255],\n",
       "          [255, 255, 255, ..., 255, 255, 255],\n",
       "          [255, 255, 255, ..., 255, 255, 255]], dtype=uint8),\n",
       "   array([[255, 255, 255, ..., 255, 255, 255],\n",
       "          [255, 255, 255, ..., 255, 255, 255],\n",
       "          [255, 255, 255, ..., 255, 255, 255],\n",
       "          ...,\n",
       "          [255, 255, 255, ..., 255, 255, 255],\n",
       "          [255, 255, 255, ..., 255, 255, 255],\n",
       "          [255, 255, 255, ..., 255, 255, 255]], dtype=uint8)]},\n",
       " 56,\n",
       " {'Soccer_Ball': [array([[216, 217, 217, ..., 217, 217, 217],\n",
       "          [216, 217, 217, ..., 217, 217, 217],\n",
       "          [216, 217, 217, ..., 217, 217, 217],\n",
       "          ...,\n",
       "          [218, 217, 217, ..., 220, 220, 220],\n",
       "          [218, 217, 217, ..., 220, 220, 220],\n",
       "          [218, 217, 217, ..., 220, 220, 220]], dtype=uint8),\n",
       "   array([[ 0,  0,  0, ...,  0,  0,  0],\n",
       "          [ 0,  0,  0, ...,  0,  0,  0],\n",
       "          [ 0,  0,  0, ...,  0,  0,  0],\n",
       "          ...,\n",
       "          [52, 38, 40, ..., 50, 47, 45],\n",
       "          [53, 31, 32, ..., 52, 52, 51],\n",
       "          [48, 41, 39, ..., 52, 49, 51]], dtype=uint8)],\n",
       "  'accordian': [array([[0, 0, 0, ..., 0, 0, 0],\n",
       "          [0, 0, 0, ..., 0, 0, 0],\n",
       "          [0, 0, 0, ..., 0, 0, 0],\n",
       "          ...,\n",
       "          [0, 0, 0, ..., 0, 0, 0],\n",
       "          [0, 0, 0, ..., 0, 0, 0],\n",
       "          [0, 0, 0, ..., 0, 0, 0]], dtype=uint8),\n",
       "   array([[0, 0, 0, ..., 0, 0, 0],\n",
       "          [0, 0, 0, ..., 0, 0, 0],\n",
       "          [0, 0, 0, ..., 0, 0, 0],\n",
       "          ...,\n",
       "          [0, 0, 0, ..., 0, 0, 0],\n",
       "          [0, 0, 0, ..., 0, 0, 0],\n",
       "          [0, 0, 0, ..., 0, 0, 0]], dtype=uint8)],\n",
       "  'dollar_bill': [array([[240, 234, 247, ..., 249, 249, 249],\n",
       "          [245, 236, 242, ..., 250, 250, 250],\n",
       "          [231, 238, 253, ..., 250, 251, 252],\n",
       "          ...,\n",
       "          [244, 243, 243, ..., 249, 250, 251],\n",
       "          [246, 245, 244, ..., 249, 250, 251],\n",
       "          [247, 245, 244, ..., 249, 250, 251]], dtype=uint8),\n",
       "   array([[209, 211, 212, ..., 201, 203, 204],\n",
       "          [206, 207, 208, ..., 204, 206, 207],\n",
       "          [229, 228, 227, ..., 203, 204, 204],\n",
       "          ...,\n",
       "          [169, 169, 167, ..., 226, 224, 221],\n",
       "          [215, 211, 206, ..., 209, 210, 209],\n",
       "          [206, 206, 205, ..., 192, 196, 197]], dtype=uint8)],\n",
       "  'motorbike': [array([[255, 255, 255, ..., 255, 255, 255],\n",
       "          [255, 255, 255, ..., 255, 255, 255],\n",
       "          [255, 255, 255, ..., 255, 255, 255],\n",
       "          ...,\n",
       "          [255, 255, 255, ..., 255, 255, 255],\n",
       "          [255, 255, 255, ..., 255, 255, 255],\n",
       "          [255, 255, 255, ..., 255, 255, 255]], dtype=uint8),\n",
       "   array([[255, 255, 251, ..., 255, 255, 255],\n",
       "          [255, 255, 251, ..., 255, 255, 255],\n",
       "          [255, 255, 251, ..., 255, 255, 255],\n",
       "          ...,\n",
       "          [255, 255, 255, ..., 255, 255, 255],\n",
       "          [244, 246, 255, ..., 255, 255, 255],\n",
       "          [255, 255, 255, ..., 255, 255, 255]], dtype=uint8)]},\n",
       " 8)"
      ]
     },
     "execution_count": 5,
     "metadata": {
      "tags": []
     },
     "output_type": "execute_result"
    }
   ],
   "source": [
    "train_dict, train_count, test_dict, test_count"
   ]
  },
  {
   "cell_type": "code",
   "execution_count": 8,
   "metadata": {
    "colab": {
     "base_uri": "https://localhost:8080/",
     "height": 34
    },
    "colab_type": "code",
    "executionInfo": {
     "elapsed": 970,
     "status": "ok",
     "timestamp": 1586709187189,
     "user": {
      "displayName": "Maliha Sameen",
      "photoUrl": "",
      "userId": "02324899299454165728"
     },
     "user_tz": -300
    },
    "id": "ppzE24PpH3np",
    "outputId": "7569aa16-034e-4f2b-f659-0c9453c82b7d"
   },
   "outputs": [
    {
     "data": {
      "text/plain": [
       "{'Soccer_Ball': 3, 'accordion': 1, 'dollar_bill': 0, 'motorbike': 2}"
      ]
     },
     "execution_count": 8,
     "metadata": {
      "tags": []
     },
     "output_type": "execute_result"
    }
   ],
   "source": [
    "# Word to Numbers Mappings\n",
    "word_to_id = {}\n",
    "for word, _ in train_dict.items():\n",
    "  word_to_id[word] = len(word_to_id)\n",
    "\n",
    "word_to_id"
   ]
  },
  {
   "cell_type": "code",
   "execution_count": 9,
   "metadata": {
    "colab": {
     "base_uri": "https://localhost:8080/",
     "height": 34
    },
    "colab_type": "code",
    "executionInfo": {
     "elapsed": 918,
     "status": "ok",
     "timestamp": 1586709281055,
     "user": {
      "displayName": "Maliha Sameen",
      "photoUrl": "",
      "userId": "02324899299454165728"
     },
     "user_tz": -300
    },
    "id": "XZ0nRDcnOM3g",
    "outputId": "ae39a87e-97af-450b-cf9a-6ee9de9192ec"
   },
   "outputs": [
    {
     "data": {
      "text/plain": [
       "{0: 'dollar_bill', 1: 'accordion', 2: 'motorbike', 3: 'Soccer_Ball'}"
      ]
     },
     "execution_count": 9,
     "metadata": {
      "tags": []
     },
     "output_type": "execute_result"
    }
   ],
   "source": [
    "# Map numbers back to Words\n",
    "id_to_word = { v:k for k,v in word_to_id.items()}\n",
    "id_to_word"
   ]
  },
  {
   "cell_type": "code",
   "execution_count": 17,
   "metadata": {
    "colab": {
     "base_uri": "https://localhost:8080/",
     "height": 34
    },
    "colab_type": "code",
    "executionInfo": {
     "elapsed": 2976,
     "status": "ok",
     "timestamp": 1586711555517,
     "user": {
      "displayName": "Maliha Sameen",
      "photoUrl": "",
      "userId": "02324899299454165728"
     },
     "user_tz": -300
    },
    "id": "n9gyVNrTPlin",
    "outputId": "ed4aca7d-d8b0-4d21-c8b4-d1f9693e948d"
   },
   "outputs": [
    {
     "data": {
      "text/plain": [
       "(56, 56)"
      ]
     },
     "execution_count": 17,
     "metadata": {
      "tags": []
     },
     "output_type": "execute_result"
    }
   ],
   "source": [
    "# Extract SIFT features\n",
    "train_descriptors_list = []\n",
    "train_labels = []\n",
    "sift = cv2.xfeatures2d.SIFT_create()\n",
    "\n",
    "for word, image_list in train_dict.items():\n",
    "  for image in image_list:\n",
    "    train_labels.append(word_to_id[word])\n",
    "    keypoints, descriptors = sift.detectAndCompute(image, None)\n",
    "    train_descriptors_list.append(descriptors)\n",
    "\n",
    "len(train_descriptors_list), len(train_labels)"
   ]
  },
  {
   "cell_type": "code",
   "execution_count": 18,
   "metadata": {
    "colab": {
     "base_uri": "https://localhost:8080/",
     "height": 34
    },
    "colab_type": "code",
    "executionInfo": {
     "elapsed": 1127,
     "status": "ok",
     "timestamp": 1586711660847,
     "user": {
      "displayName": "Maliha Sameen",
      "photoUrl": "",
      "userId": "02324899299454165728"
     },
     "user_tz": -300
    },
    "id": "2nn_v0YgXp0N",
    "outputId": "af78b2dc-3ca8-43b1-e7fb-34c5e45b20d2"
   },
   "outputs": [
    {
     "data": {
      "text/plain": [
       "(25084, 128)"
      ]
     },
     "execution_count": 18,
     "metadata": {
      "tags": []
     },
     "output_type": "execute_result"
    }
   ],
   "source": [
    "def formatND(l):\n",
    "  vStack = np.array(l[0])\n",
    "  for remaining in l[1:]:\n",
    "    vStack = np.vstack((vStack, remaining))\n",
    "  return vStack\n",
    "\n",
    "train_descriptors = formatND(train_descriptors_list)\n",
    "train_descriptors.shape"
   ]
  },
  {
   "cell_type": "code",
   "execution_count": 0,
   "metadata": {
    "colab": {},
    "colab_type": "code",
    "id": "yn4jgThKWHgP"
   },
   "outputs": [],
   "source": [
    "# Perform Clustering\n",
    "from sklearn.cluster import KMeans\n",
    "\n",
    "kmeans = KMeans(n_clusters = 20)\n",
    "kmeans_ret = kmeans.fit_predict(train_descriptors)"
   ]
  },
  {
   "cell_type": "code",
   "execution_count": 0,
   "metadata": {
    "colab": {},
    "colab_type": "code",
    "id": "wKFTgRctZEAh"
   },
   "outputs": [],
   "source": [
    "# Create Vocabulary\n",
    "def vocabulary(n_images, descriptor_list, kmeans_ret):\n",
    "  vocab_hist = np.array([np.zeros(20) for i in range(n_images)])\n",
    "  count = 0\n",
    "\n",
    "  for i in range(n_images):\n",
    "    d_len = len(descriptor_list[i])\n",
    "    for j in range(d_len):\n",
    "      idx = kmeans_ret[count + j]\n",
    "      vocab_hist[i][idx] += 1\n",
    "    count += 1\n",
    "\n",
    "  return vocab_hist\n",
    "\n",
    "train_vocab_hist = vocabulary(train_count, train_descriptors_list, kmeans_ret)"
   ]
  },
  {
   "cell_type": "code",
   "execution_count": 22,
   "metadata": {
    "colab": {
     "base_uri": "https://localhost:8080/",
     "height": 329
    },
    "colab_type": "code",
    "executionInfo": {
     "elapsed": 1187,
     "status": "ok",
     "timestamp": 1586713360028,
     "user": {
      "displayName": "Maliha Sameen",
      "photoUrl": "",
      "userId": "02324899299454165728"
     },
     "user_tz": -300
    },
    "id": "_TRc10ZFeKkL",
    "outputId": "323c9b79-5602-4c44-fdfd-bb9ee12ce321"
   },
   "outputs": [
    {
     "name": "stdout",
     "output_type": "stream",
     "text": [
      "[2368 1673  898  510  668 1444  575 1592 1226 1354  864 2160 1036 1624\n",
      "  994  749  827 2527 1278  717]\n"
     ]
    },
    {
     "data": {
      "image/png": "[encoded data removed]",
      "text/plain": [
       "<Figure size 432x288 with 1 Axes>"
      ]
     },
     "metadata": {
      "needs_background": "light",
      "tags": []
     },
     "output_type": "display_data"
    }
   ],
   "source": [
    "# Plot Trained Vocabulary\n",
    "def plot_vocab_histogram(vocabulary):\n",
    "  x_scalar = np.arange(20)\n",
    "  y_scalar = np.array([abs(np.sum(vocabulary[:,h], dtype=np.int32)) for h in range(20)])\n",
    "\n",
    "  print(y_scalar)\n",
    "\n",
    "  plt.bar(x_scalar, y_scalar)\n",
    "  plt.xlabel(\"Visual Word Index\")\n",
    "  plt.ylabel(\"Frequency\")\n",
    "  plt.title(\"Complete Vocabulary Generated\")\n",
    "  plt.xticks(x_scalar + 0.4, x_scalar)\n",
    "  plt.show()\n",
    "\n",
    "plot_vocab_histogram(train_vocab_hist)"
   ]
  },
  {
   "cell_type": "code",
   "execution_count": 0,
   "metadata": {
    "colab": {},
    "colab_type": "code",
    "id": "-gY-lQSFfOju"
   },
   "outputs": [],
   "source": [
    "# Standardize Histogram\n",
    "from sklearn.preprocessing import StandardScaler\n",
    "\n",
    "def standardize(vocab_hist):\n",
    "  scale = StandardScaler().fit(vocab_hist)\n",
    "  vocab_hist = scale.transform(vocab_hist)\n",
    "  return vocab_hist, scale\n",
    "\n",
    "train_norm_vocab_hist, scale = standardize(train_vocab_hist)"
   ]
  },
  {
   "cell_type": "code",
   "execution_count": 24,
   "metadata": {
    "colab": {
     "base_uri": "https://localhost:8080/",
     "height": 34
    },
    "colab_type": "code",
    "executionInfo": {
     "elapsed": 1176,
     "status": "ok",
     "timestamp": 1586714013341,
     "user": {
      "displayName": "Maliha Sameen",
      "photoUrl": "",
      "userId": "02324899299454165728"
     },
     "user_tz": -300
    },
    "id": "5LcDZAbWheJK",
    "outputId": "438ba9b6-a9d2-44c4-c653-d0ee1700e8e6"
   },
   "outputs": [
    {
     "data": {
      "text/plain": [
       "((56, 20), (56,))"
      ]
     },
     "execution_count": 24,
     "metadata": {
      "tags": []
     },
     "output_type": "execute_result"
    }
   ],
   "source": [
    "train_labels = np.array(train_labels)\n",
    "train_norm_vocab_hist.shape, train_labels.shape"
   ]
  },
  {
   "cell_type": "code",
   "execution_count": 25,
   "metadata": {
    "colab": {
     "base_uri": "https://localhost:8080/",
     "height": 85
    },
    "colab_type": "code",
    "executionInfo": {
     "elapsed": 1110,
     "status": "ok",
     "timestamp": 1586714166631,
     "user": {
      "displayName": "Maliha Sameen",
      "photoUrl": "",
      "userId": "02324899299454165728"
     },
     "user_tz": -300
    },
    "id": "kYp2fp-jg_vP",
    "outputId": "d95ae49e-fe0a-434e-8e54-c2c0ac64b923"
   },
   "outputs": [
    {
     "data": {
      "text/plain": [
       "SVC(C=1.0, break_ties=False, cache_size=200, class_weight=None, coef0=0.0,\n",
       "    decision_function_shape='ovr', degree=3, gamma='scale', kernel='rbf',\n",
       "    max_iter=-1, probability=False, random_state=None, shrinking=True,\n",
       "    tol=0.001, verbose=False)"
      ]
     },
     "execution_count": 25,
     "metadata": {
      "tags": []
     },
     "output_type": "execute_result"
    }
   ],
   "source": [
    "# Train SVM\n",
    "from sklearn.svm import SVC\n",
    "\n",
    "svm_clf = SVC()\n",
    "svm_clf.fit(train_norm_vocab_hist, train_labels)"
   ]
  },
  {
   "cell_type": "code",
   "execution_count": 0,
   "metadata": {
    "colab": {},
    "colab_type": "code",
    "id": "HHuDh3IYiO1-"
   },
   "outputs": [],
   "source": [
    "# Recognize Each Test Image\n",
    "def recognize(test_image, sift, kmeans, svm_clf):\n",
    "  # Compute features of Test Image\n",
    "  kp, des = sift.detectAndCompute(test_image, None)\n",
    "  # Create vocabulary\n",
    "  vocab = np.array( [[ 0 for i in range(20)]])\n",
    "  test_ret = kmeans.predict(des)\n",
    "  for each in test_ret:\n",
    "    vocab[0][each] += 1\n",
    "  # Scale the image\n",
    "  vocab = scale.transform(vocab)\n",
    "  # Predict Class\n",
    "  im_class = svm_clf.predict(vocab)\n",
    "\n",
    "  return im_class"
   ]
  },
  {
   "cell_type": "code",
   "execution_count": 0,
   "metadata": {
    "colab": {},
    "colab_type": "code",
    "id": "kfMiXyH5mpL3"
   },
   "outputs": [],
   "source": [
    "# Predictions for Testing Images\n",
    "predict_labels = []\n",
    "test_labels = []\n",
    "\n",
    "for word, image_list in test_dict.items():\n",
    "  for image in image_list:\n",
    "    test_labels.append(word_to_id[word])\n",
    "    label = recognize(image, sift, kmeans, svm_clf)\n",
    "    predict_labels.append(label)"
   ]
  },
  {
   "cell_type": "code",
   "execution_count": 39,
   "metadata": {
    "colab": {
     "base_uri": "https://localhost:8080/",
     "height": 204
    },
    "colab_type": "code",
    "executionInfo": {
     "elapsed": 1143,
     "status": "ok",
     "timestamp": 1586716678593,
     "user": {
      "displayName": "Maliha Sameen",
      "photoUrl": "",
      "userId": "02324899299454165728"
     },
     "user_tz": -300
    },
    "id": "R8_Eq-OXotSH",
    "outputId": "090eae3e-c08d-4a88-adaa-71b5b72c7c6a"
   },
   "outputs": [
    {
     "name": "stdout",
     "output_type": "stream",
     "text": [
      "              precision    recall  f1-score   support\n",
      "\n",
      " Soccer_Ball       0.00      0.00      0.00         2\n",
      "   accordion       0.67      1.00      0.80         2\n",
      " dollar_bill       0.50      0.50      0.50         2\n",
      "   motorbike       0.50      0.50      0.50         2\n",
      "\n",
      "    accuracy                           0.50         8\n",
      "   macro avg       0.42      0.50      0.45         8\n",
      "weighted avg       0.42      0.50      0.45         8\n",
      "\n"
     ]
    }
   ],
   "source": [
    "# Print Test Accuracy\n",
    "from sklearn import metrics\n",
    "\n",
    "actual = np.array([id_to_word[label] for label in list(test_labels)])\n",
    "predicted = np.array([id_to_word[label[0]] for label in list(predict_labels)])\n",
    "\n",
    "report = metrics.classification_report(y_pred=predicted, y_true=actual)\n",
    "print(report)"
   ]
  },
  {
   "cell_type": "code",
   "execution_count": 42,
   "metadata": {
    "colab": {
     "base_uri": "https://localhost:8080/",
     "height": 356
    },
    "colab_type": "code",
    "executionInfo": {
     "elapsed": 1183,
     "status": "ok",
     "timestamp": 1586716850392,
     "user": {
      "displayName": "Maliha Sameen",
      "photoUrl": "",
      "userId": "02324899299454165728"
     },
     "user_tz": -300
    },
    "id": "iDfyIQj_r5KP",
    "outputId": "2a3e759d-0b87-4def-b822-8b42c2bcebc9"
   },
   "outputs": [
    {
     "data": {
      "text/plain": [
       "<matplotlib.axes._subplots.AxesSubplot at 0x7fa67fb39438>"
      ]
     },
     "execution_count": 42,
     "metadata": {
      "tags": []
     },
     "output_type": "execute_result"
    },
    {
     "data": {
      "image/png": "[encoded data removed]",
      "text/plain": [
       "<Figure size 360x360 with 2 Axes>"
      ]
     },
     "metadata": {
      "needs_background": "light",
      "tags": []
     },
     "output_type": "display_data"
    }
   ],
   "source": [
    "# Confusion Matrix\n",
    "import seaborn as sns\n",
    "import pandas as pd\n",
    "\n",
    "cm = metrics.confusion_matrix(actual, predicted)\n",
    "\n",
    "df_cm = pd.DataFrame(cm, columns=np.unique(actual), index = np.unique(predicted))\n",
    "df_cm.index.name = 'Actual'\n",
    "df_cm.columns.name = 'Predicted'\n",
    "\n",
    "plt.figure(figsize = (5, 5))\n",
    "sns.heatmap(df_cm, cmap=\"Blues\", annot=True,annot_kws={\"size\": 8})"
   ]
  }
 ],
 "metadata": {
  "accelerator": "GPU",
  "colab": {
   "authorship_tag": "ABX9TyORxZ6c4TmO4Li1aRJMOUtM",
   "collapsed_sections": [],
   "name": "bovw.ipynb",
   "provenance": [],
   "toc_visible": true
  },
  "kernelspec": {
   "display_name": "Python 3",
   "language": "python",
   "name": "python3"
  },
  "language_info": {
   "codemirror_mode": {
    "name": "ipython",
    "version": 3
   },
   "file_extension": ".py",
   "mimetype": "text/x-python",
   "name": "python",
   "nbconvert_exporter": "python",
   "pygments_lexer": "ipython3",
   "version": "3.7.6"
  }
 },
 "nbformat": 4,
 "nbformat_minor": 1
}
