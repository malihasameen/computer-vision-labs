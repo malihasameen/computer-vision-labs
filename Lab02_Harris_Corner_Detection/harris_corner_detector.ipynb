{
 "cells": [
  {
   "cell_type": "markdown",
   "metadata": {
    "colab_type": "text",
    "id": "p-kD3F_Dkika"
   },
   "source": [
    "# **Lab02: Harris Corner Detection Algorithm**"
   ]
  },
  {
   "cell_type": "code",
   "execution_count": 0,
   "metadata": {
    "colab": {},
    "colab_type": "code",
    "id": "pkC1nkjqkOzF"
   },
   "outputs": [],
   "source": [
    "# Import Statements\n",
    "import cv2\n",
    "import matplotlib.pyplot as plt\n",
    "import numpy as np"
   ]
  },
  {
   "cell_type": "markdown",
   "metadata": {
    "colab_type": "text",
    "id": "eUsnMewI31jg"
   },
   "source": [
    "## **Read Image in Grayscale Mode**"
   ]
  },
  {
   "cell_type": "code",
   "execution_count": 16,
   "metadata": {
    "colab": {
     "base_uri": "https://localhost:8080/",
     "height": 222
    },
    "colab_type": "code",
    "executionInfo": {
     "elapsed": 1517,
     "status": "ok",
     "timestamp": 1580189103134,
     "user": {
      "displayName": "Maliha Sameen",
      "photoUrl": "",
      "userId": "02324899299454165728"
     },
     "user_tz": -300
    },
    "id": "vw8uvs58l1-g",
    "outputId": "febc7221-8864-454a-951f-bf997cef797c"
   },
   "outputs": [
    {
     "data": {
      "text/plain": [
       "<matplotlib.image.AxesImage at 0x7f72e5449e48>"
      ]
     },
     "execution_count": 16,
     "metadata": {
      "tags": []
     },
     "output_type": "execute_result"
    },
    {
     "data": {
      "image/png": "[encoded data removed]",
      "text/plain": [
       "<Figure size 432x288 with 1 Axes>"
      ]
     },
     "metadata": {
      "tags": []
     },
     "output_type": "display_data"
    }
   ],
   "source": [
    "# Read and Convert Image to Grayscale\n",
    "image = cv2.imread(\"Lab-02_Image.PNG\",0)\n",
    "plt.imshow(image, cmap=\"gray\")"
   ]
  },
  {
   "cell_type": "markdown",
   "metadata": {
    "colab_type": "text",
    "id": "wNWHsjEN3-rH"
   },
   "source": [
    "## **Compute Gradient X and Y**"
   ]
  },
  {
   "cell_type": "code",
   "execution_count": 22,
   "metadata": {
    "colab": {
     "base_uri": "https://localhost:8080/",
     "height": 167
    },
    "colab_type": "code",
    "executionInfo": {
     "elapsed": 1520,
     "status": "ok",
     "timestamp": 1580190484096,
     "user": {
      "displayName": "Maliha Sameen",
      "photoUrl": "",
      "userId": "02324899299454165728"
     },
     "user_tz": -300
    },
    "id": "IiPGrpX8nElQ",
    "outputId": "acbbc380-917b-4fef-e8f1-b3201b4330d6"
   },
   "outputs": [
    {
     "data": {
      "image/png": "[encoded data removed]",
      "text/plain": [
       "<Figure size 720x432 with 2 Axes>"
      ]
     },
     "metadata": {
      "tags": []
     },
     "output_type": "display_data"
    }
   ],
   "source": [
    "# Compute Gradient X and Y using Sobel Operator\n",
    "kernel_x = np.array([[-1, 0, 1],[-2, 0, 2],[-1, 0, 1]])\n",
    "I_x = cv2.filter2D(image, -1, kernel_x)\n",
    "\n",
    "kernel_y = np.array([[1, 2, 1], [0, 0, 0], [-1, -2, -1]])\n",
    "I_y = cv2.filter2D(image, -1, kernel_y)\n",
    "\n",
    "# Plot Gradient X and Gradient Y\n",
    "fig=plt.figure(figsize=(10,6))\n",
    "fig.add_subplot(1, 2, 1, xticks=[], yticks=[])\n",
    "plt.title(\"Sobel Gradient X\")\n",
    "plt.imshow(I_x, cmap=\"gray\")\n",
    "fig.add_subplot(1, 2, 2, xticks=[], yticks=[])\n",
    "plt.title(\"Sobel Gradient Y\")\n",
    "plt.imshow(I_y, cmap=\"gray\")\n",
    "plt.show()"
   ]
  },
  {
   "cell_type": "markdown",
   "metadata": {
    "colab_type": "text",
    "id": "eOe1GSFL4H8-"
   },
   "source": [
    "## **Compute Square and Product of derivatives**"
   ]
  },
  {
   "cell_type": "code",
   "execution_count": 25,
   "metadata": {
    "colab": {
     "base_uri": "https://localhost:8080/",
     "height": 126
    },
    "colab_type": "code",
    "executionInfo": {
     "elapsed": 1934,
     "status": "ok",
     "timestamp": 1580190690981,
     "user": {
      "displayName": "Maliha Sameen",
      "photoUrl": "",
      "userId": "02324899299454165728"
     },
     "user_tz": -300
    },
    "id": "oEoTn0Gyp4eR",
    "outputId": "2d4974cf-8cc5-48d6-9c02-daf2d5c901de"
   },
   "outputs": [
    {
     "data": {
      "image/png": "[encoded data removed]",
      "text/plain": [
       "<Figure size 720x432 with 3 Axes>"
      ]
     },
     "metadata": {
      "tags": []
     },
     "output_type": "display_data"
    }
   ],
   "source": [
    "# Compute Square and Product of derivates and apply Gaussian Smoothing\n",
    "Ixx = cv2.GaussianBlur(I_x**2, (3,3), 1)\n",
    "Ixy = cv2.GaussianBlur(I_x * I_y, (3,3), 1)\n",
    "Iyy = cv2.GaussianBlur(I_y**2, (3,3), 1)\n",
    "\n",
    "# Plot Ixx, Ixy, Iyy\n",
    "fig=plt.figure(figsize=(10,6))\n",
    "fig.add_subplot(1, 3, 1, xticks=[], yticks=[])\n",
    "plt.title(\"Ixx\")\n",
    "plt.imshow(Ixx, cmap=\"gray\")\n",
    "fig.add_subplot(1, 3, 2, xticks=[], yticks=[])\n",
    "plt.title(\"Ixy\")\n",
    "plt.imshow(Ixy, cmap=\"gray\")\n",
    "fig.add_subplot(1, 3, 3, xticks=[], yticks=[])\n",
    "plt.title(\"Iyy\")\n",
    "plt.imshow(Iyy, cmap=\"gray\")\n",
    "plt.show()"
   ]
  },
  {
   "cell_type": "markdown",
   "metadata": {
    "colab_type": "text",
    "id": "7EQBsXqs4lav"
   },
   "source": [
    "## **Calculate Harris Response**"
   ]
  },
  {
   "cell_type": "code",
   "execution_count": 37,
   "metadata": {
    "colab": {
     "base_uri": "https://localhost:8080/",
     "height": 222
    },
    "colab_type": "code",
    "executionInfo": {
     "elapsed": 1389,
     "status": "ok",
     "timestamp": 1580192610122,
     "user": {
      "displayName": "Maliha Sameen",
      "photoUrl": "",
      "userId": "02324899299454165728"
     },
     "user_tz": -300
    },
    "id": "VTQwLz96tRbC",
    "outputId": "67d2dc34-6be1-4ea0-ed92-aaa56dd3d296"
   },
   "outputs": [
    {
     "data": {
      "text/plain": [
       "<matplotlib.image.AxesImage at 0x7f72e2b46e10>"
      ]
     },
     "execution_count": 37,
     "metadata": {
      "tags": []
     },
     "output_type": "execute_result"
    },
    {
     "data": {
      "image/png": "[encoded data removed]",
      "text/plain": [
       "<Figure size 432x288 with 1 Axes>"
      ]
     },
     "metadata": {
      "tags": []
     },
     "output_type": "display_data"
    }
   ],
   "source": [
    "# Calculate Harris Response\n",
    "k = 0.05\n",
    "det_M = Ixx * Iyy - Ixy ** 2\n",
    "trace = Ixx + Iyy \n",
    "harris_response = det_M - k * trace ** 2\n",
    "\n",
    "plt.imshow(harris_response, cmap=\"gray\")"
   ]
  },
  {
   "cell_type": "markdown",
   "metadata": {
    "colab_type": "text",
    "id": "7vWOscHf4rv3"
   },
   "source": [
    "## **Non maximum Suppression**"
   ]
  },
  {
   "cell_type": "code",
   "execution_count": 40,
   "metadata": {
    "colab": {
     "base_uri": "https://localhost:8080/",
     "height": 167
    },
    "colab_type": "code",
    "executionInfo": {
     "elapsed": 2179,
     "status": "ok",
     "timestamp": 1580193453032,
     "user": {
      "displayName": "Maliha Sameen",
      "photoUrl": "",
      "userId": "02324899299454165728"
     },
     "user_tz": -300
    },
    "id": "B1CRDlkUwQNF",
    "outputId": "51cc902f-01a7-412a-af9c-d10b25cb7bf8"
   },
   "outputs": [
    {
     "data": {
      "image/png": "[encoded data removed]",
      "text/plain": [
       "<Figure size 720x432 with 2 Axes>"
      ]
     },
     "metadata": {
      "tags": []
     },
     "output_type": "display_data"
    }
   ],
   "source": [
    "# Non max Suppression\n",
    "# Edge : R < 0\n",
    "# Corner : R > 0\n",
    "# Flat: R = 0\n",
    "\n",
    "corner_image = np.copy(cv2.cvtColor(image,cv2.COLOR_GRAY2RGB))\n",
    "edge_image = np.copy(cv2.cvtColor(image,cv2.COLOR_GRAY2RGB))\n",
    "\n",
    "for x, response in enumerate(harris_response):\n",
    "  for y, r in enumerate(response):\n",
    "    if r > 0:\n",
    "      # Corner\n",
    "      corner_image[x, y] = [255,0,0]\n",
    "    elif r < 0:\n",
    "      # Edge\n",
    "      edge_image[x, y] = [0,255,0]\n",
    "\n",
    "# Plot Corners and Edges\n",
    "fig=plt.figure(figsize=(10,6))\n",
    "fig.add_subplot(1, 2, 1, xticks=[], yticks=[])\n",
    "plt.title(\"Corners\")\n",
    "plt.imshow(corner_image, cmap=\"gray\")\n",
    "fig.add_subplot(1, 2, 2, xticks=[], yticks=[])\n",
    "plt.title(\"Edges\")\n",
    "plt.imshow(edge_image, cmap=\"gray\")\n",
    "plt.show()"
   ]
  }
 ],
 "metadata": {
  "colab": {
   "authorship_tag": "ABX9TyNtwhq9P0JkgbjEYaMGvd49",
   "collapsed_sections": [],
   "name": "harris_corner_detector.ipynb",
   "provenance": [],
   "toc_visible": true
  },
  "kernelspec": {
   "display_name": "Python 3",
   "language": "python",
   "name": "python3"
  },
  "language_info": {
   "codemirror_mode": {
    "name": "ipython",
    "version": 3
   },
   "file_extension": ".py",
   "mimetype": "text/x-python",
   "name": "python",
   "nbconvert_exporter": "python",
   "pygments_lexer": "ipython3",
   "version": "3.7.6"
  }
 },
 "nbformat": 4,
 "nbformat_minor": 1
}
